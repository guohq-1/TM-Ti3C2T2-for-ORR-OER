{
 "cells": [
  {
   "cell_type": "code",
   "execution_count": 2,
   "id": "0f48ddce-c965-4b13-b63b-873c78df3197",
   "metadata": {},
   "outputs": [],
   "source": [
    "import pandas as pd\n",
    "import numpy as np\n",
    "\n",
    "# 读取CSV文件\n",
    "file_path = './ml_all_new_new.csv'\n",
    "data = pd.read_csv(file_path)\n",
    "\n",
    "# 定义后缀列表\n",
    "suffixes = ['_O', '_S', '_CL', '_SE', '_F']\n",
    "\n",
    "# 创建一个字典来保存不同组的数据\n",
    "grouped_data = {suffix: data[data.iloc[:, 0].str.endswith(suffix)] for suffix in suffixes}\n",
    "\n",
    "# 初始化列表来保存各组的训练数据和测试数据\n",
    "train_groups = []\n",
    "test_groups = []\n",
    "\n",
    "# 从每组数据中随机抽取一半作为训练数据，其余作为测试数据\n",
    "for suffix, group in grouped_data.items():\n",
    "    train_group = group.sample(frac=0.7, random_state=42)\n",
    "    test_group = group.drop(train_group.index)\n",
    "    train_groups.append(train_group)\n",
    "    test_groups.append(test_group)\n",
    "\n",
    "# 合并所有组的训练数据和测试数据\n",
    "train_data_combined = pd.concat(train_groups)\n",
    "test_data_combined = pd.concat(test_groups)\n",
    "\n",
    "# 保存训练数据和测试数据到CSV文件\n",
    "train_file_path_combined = './train_data_0.7.csv'\n",
    "test_file_path_combined = './test_data_0.7.csv'\n",
    "\n",
    "train_data_combined.to_csv(train_file_path_combined, index=False)\n",
    "test_data_combined.to_csv(test_file_path_combined, index=False)\n"
   ]
  }
 ],
 "metadata": {
  "kernelspec": {
   "display_name": "Python 3 (ipykernel)",
   "language": "python",
   "name": "python3"
  },
  "language_info": {
   "codemirror_mode": {
    "name": "ipython",
    "version": 3
   },
   "file_extension": ".py",
   "mimetype": "text/x-python",
   "name": "python",
   "nbconvert_exporter": "python",
   "pygments_lexer": "ipython3",
   "version": "3.8.19"
  }
 },
 "nbformat": 4,
 "nbformat_minor": 5
}
