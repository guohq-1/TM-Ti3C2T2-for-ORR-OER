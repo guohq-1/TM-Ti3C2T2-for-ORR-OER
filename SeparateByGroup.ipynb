{
 "cells": [
  {
   "cell_type": "code",
   "execution_count": null,
   "id": "0f48ddce-c965-4b13-b63b-873c78df3197",
   "metadata": {},
   "outputs": [],
   "source": [
    "import pandas as pd\n",
    "import numpy as np\n",
    "\n",
    "# read CSV file\n",
    "file_path = 'path_to_csv./file.csv'\n",
    "data = pd.read_csv(file_path)\n",
    "\n",
    "# Defining a suffix list\n",
    "suffixes = ['_O', '_S', '_CL', '_SE', '_F']\n",
    "\n",
    "# Create a dictionary to store the different groups of data\n",
    "grouped_data = {suffix: data[data.iloc[:, 0].str.endswith(suffix)] for suffix in suffixes}\n",
    "\n",
    "# Initialize lists to save training data and test data for each group\n",
    "train_groups = []\n",
    "test_groups = []\n",
    "\n",
    "# Randomly select half of each set of data as training data and the rest as test data\n",
    "for suffix, group in grouped_data.items():\n",
    "    train_group = group.sample(frac=0.5, random_state=42)\n",
    "    test_group = group.drop(train_group.index)\n",
    "    train_groups.append(train_group)\n",
    "    test_groups.append(test_group)\n",
    "\n",
    "# Combine the training and test data of all groups\n",
    "train_data_combined = pd.concat(train_groups)\n",
    "test_data_combined = pd.concat(test_groups)\n",
    "\n",
    "# Save training data and test data to CSV files\n",
    "train_file_path_combined = './train_0.5.csv'\n",
    "test_file_path_combined = './test_0.5.csv'\n",
    "\n",
    "train_data_combined.to_csv(train_file_path_combined, index=False)\n",
    "test_data_combined.to_csv(test_file_path_combined, index=False)\n"
   ]
  }
 ],
 "metadata": {
  "kernelspec": {
   "display_name": "Python 3 (ipykernel)",
   "language": "python",
   "name": "python3"
  },
  "language_info": {
   "codemirror_mode": {
    "name": "ipython",
    "version": 3
   },
   "file_extension": ".py",
   "mimetype": "text/x-python",
   "name": "python",
   "nbconvert_exporter": "python",
   "pygments_lexer": "ipython3",
   "version": "3.8.19"
  }
 },
 "nbformat": 4,
 "nbformat_minor": 5
}
