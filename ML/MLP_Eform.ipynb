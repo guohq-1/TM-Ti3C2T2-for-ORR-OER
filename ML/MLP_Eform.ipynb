{
 "cells": [
  {
   "cell_type": "code",
   "execution_count": null,
   "id": "52619913-e6c4-4ec6-9ecd-36a1f23158ec",
   "metadata": {},
   "outputs": [],
   "source": [
    "import pandas as pd\n",
    "import numpy as np\n",
    "from sklearn.model_selection import train_test_split\n",
    "from sklearn.preprocessing import MinMaxScaler\n",
    "import math\n",
    "\n",
    "# Load the data\n",
    "data = pd.read_csv('PATH_to_cvs')\n",
    "\n",
    "# Drop unnecessary columns\n",
    "data_cleaned = data.drop(columns=['Eb', 'Ec'])\n",
    "data_cleaned.rename(columns={'Unnamed: 0': 'Label'}, inplace=True)\n",
    "\n",
    "# Extract features and target\n",
    "X = data_cleaned.drop(columns=['Label', 'Eform']).values\n",
    "y = data_cleaned['Eform'].values\n",
    "\n",
    "#Normalize the features to [0, 1] range using MinMaxScaler\n",
    "scaler = MinMaxScaler(feature_range=(0, 1))\n",
    "X_scaled = scaler.fit_transform(X)\n",
    "\n",
    "\n",
    "# Split data into training and testing sets\n",
    "X_train, X_test, y_train, y_test = train_test_split(X_scaled, y, test_size=0.2, random_state=42)"
   ]
  },
  {
   "cell_type": "code",
   "execution_count": null,
   "id": "22001efd-3c4c-4046-8afe-8f96b1305433",
   "metadata": {},
   "outputs": [],
   "source": [
    "import keras as K\n",
    "from keras.models import Sequential\n",
    "from keras.layers import Dense,Dropout,Activation\n",
    "from keras.callbacks import EarlyStopping\n",
    "\n",
    "\n",
    "model = Sequential()\n",
    "model.add(Dense(100,input_dim=X_train.shape[1],activation=\"tanh\",name=\"full_1\"))\n",
    "model.add(Dense(100,activation=\"tanh\",name=\"full_2\"))\n",
    "model.add(Dense(100,activation=\"tanh\",name=\"full_3\"))\n",
    "model.add(Dense(100,activation=\"tanh\",name=\"full_4\"))\n",
    "model.add(Dense(1, activation=\"linear\"))\n",
    "model.summary()"
   ]
  },
  {
   "cell_type": "code",
   "execution_count": null,
   "id": "77b5569a",
   "metadata": {},
   "outputs": [],
   "source": [
    "\n",
    "early_stopping = EarlyStopping(monitor='val_loss', patience=10)\n",
    "model.compile(loss='mean_squared_error', optimizer='adam')   \n",
    "\n",
    "model.fit(X_train, y_train,batch_size=512,epochs=200, verbose=0,validation_split=0.2,callbacks=[early_stopping])\n",
    "\n",
    "\n",
    "y_pred_train_model=model.predict(X_train)\n",
    "y_pred_test_model=model.predict(X_test)"
   ]
  },
  {
   "cell_type": "code",
   "execution_count": null,
   "id": "012c621e-f43a-4d75-b825-0dbad192d6df",
   "metadata": {},
   "outputs": [],
   "source": [
    "from sklearn.metrics import mean_squared_error, mean_absolute_error, r2_score\n",
    "rmse_tr=mean_squared_error(y_train,y_pred_train_model,squared=False)\n",
    "rmse_te=mean_squared_error(y_test,y_pred_test_model,squared=False)\n",
    "mae_tr = mean_absolute_error(y_train, y_pred_train_model)\n",
    "mae_te = mean_absolute_error(y_test, y_pred_test_model)\n",
    "r2_tr = r2_score(y_train, y_pred_train_model)\n",
    "r2_te = r2_score(y_test, y_pred_test_model)\n",
    "\n",
    "# Calculate Standard Error\n",
    "train_se_rmse = rmse_tr / math.sqrt(len(y_train))\n",
    "test_se_rmse = rmse_te / math.sqrt(len(y_test))\n",
    "train_se_mae = mae_tr / math.sqrt(len(y_train))\n",
    "test_se_mae = mae_te / math.sqrt(len(y_test))\n",
    "train_se_r2 = r2_tr / math.sqrt(len(y_train))\n",
    "test_se_r2 = r2_te / math.sqrt(len(y_test))\n",
    "\n",
    "# Print results\n",
    "print('RMSE (training) = %.3f' % rmse_tr)\n",
    "print('RMSE (test) = %.3f' % rmse_te)\n",
    "print('MAE (training) = %.3f' % mae_tr)\n",
    "print('MAE (test) = %.3f' % mae_te)\n",
    "print('R² (training) = %.3f' % r2_tr)\n",
    "print('R² (test) = %.3f' % r2_te)\n",
    "\n",
    "print(f'Training Standard Error_RMSE: {train_se_rmse}')\n",
    "print(f'Test Standard Error_RMSE: {test_se_rmse}')\n",
    "print(f'Training Standard Error_MAE: {train_se_mae}')\n",
    "print(f'Test Standard Error_MAE: {test_se_mae}')\n",
    "print(f'Training Standard Error_R²: {train_se_r2}')\n",
    "print(f'Test Standard Error_R²: {test_se_r2}')"
   ]
  },
  {
   "cell_type": "code",
   "execution_count": null,
   "id": "6dc64789-b087-467e-91da-308c5184df08",
   "metadata": {},
   "outputs": [],
   "source": [
    "import matplotlib.pyplot as plt\n",
    "\n",
    "plt.figure(figsize=(5,5))\n",
    "plt.scatter(y_train,y_pred_train_model,alpha=0.5,color='blue',label='Training')\n",
    "plt.scatter(y_test,y_pred_test_model,alpha=0.5,color='r',label='Test',)\n",
    "plt.plot([-5,10],[-5,10], color='k', linewidth=2,linestyle='--',alpha=0.4)\n",
    "plt.legend()\n",
    "plt.xlabel('Eform_DFT')\n",
    "plt.ylabel('Eform_ML_MLP')\n",
    "plt.savefig('./MLP_Eform.jpg',dpi=500,bbox_inches='tight')\n",
    "plt.show()"
   ]
  },
  {
   "cell_type": "code",
   "execution_count": null,
   "id": "cc896c70-ab45-410b-b9ee-16d0442561da",
   "metadata": {},
   "outputs": [],
   "source": [
    "# Save results to CSV for use in other software\n",
    "\n",
    "d = {\n",
    "    'y_train': y_train,\n",
    "    'y_train_pred': y_pred_train_model.flatten(),\n",
    "    'y_test': y_test,\n",
    "    'y_test_pred': y_pred_test_model.flatten()\n",
    "}\n",
    "results_df = pd.DataFrame(pd.DataFrame.from_dict(d, orient='index').values.T, columns=list(d.keys()))\n",
    "\n",
    "results_df.to_csv('./MLP_Eform_results.csv', index=False)"
   ]
  }
 ],
 "metadata": {
  "kernelspec": {
   "display_name": "Python 3 (ipykernel)",
   "language": "python",
   "name": "python3"
  },
  "language_info": {
   "codemirror_mode": {
    "name": "ipython",
    "version": 3
   },
   "file_extension": ".py",
   "mimetype": "text/x-python",
   "name": "python",
   "nbconvert_exporter": "python",
   "pygments_lexer": "ipython3",
   "version": "3.8.19"
  }
 },
 "nbformat": 4,
 "nbformat_minor": 5
}
